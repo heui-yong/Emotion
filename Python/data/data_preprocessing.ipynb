{
 "cells": [
  {
   "cell_type": "code",
   "execution_count": 1,
   "metadata": {},
   "outputs": [],
   "source": [
    "import pandas as pd\n",
    "import numpy as np"
   ]
  },
  {
   "cell_type": "markdown",
   "metadata": {},
   "source": [
    "[데이터링크](https://aihub.or.kr/aihubdata/data/view.do?dataSetSn=270)"
   ]
  },
  {
   "cell_type": "code",
   "execution_count": 2,
   "metadata": {},
   "outputs": [
    {
     "data": {
      "text/plain": [
       "label\n",
       "-1    10897\n",
       "1      6037\n",
       "0      4830\n",
       "Name: count, dtype: int64"
      ]
     },
     "execution_count": 2,
     "metadata": {},
     "output_type": "execute_result"
    }
   ],
   "source": [
    "keti_single=pd.read_excel('../data/한국어_단발성_대화_데이터셋.xlsx')\n",
    "keti_single=keti_single.iloc[:,:2]\n",
    "\n",
    "keti_single.rename(columns={'Sentence':\"document\",'Emotion':'label'},inplace=True)\n",
    "\n",
    "keti_single=keti_single[keti_single[\"label\"]!=\"놀람\"]\n",
    "keti_single=keti_single[keti_single[\"label\"]!=\"분노\"]\n",
    "keti_single=keti_single[keti_single[\"label\"]!=\"슬픔\"]\n",
    "\n",
    "keti_single.loc[(keti_single['label'] == \"행복\"), 'label'] = 1  #행복 => 0\n",
    "keti_single.loc[(keti_single['label'] == \"중립\"), 'label'] = 0  #분노 => 2\n",
    "keti_single.loc[(keti_single['label'] == \"공포\"), 'label'] = -1  #슬픔 => 3\n",
    "keti_single.loc[(keti_single['label'] == \"혐오\"), 'label'] = -1  #슬픔 => 3\n",
    "\n",
    "keti_single[\"label\"].value_counts()"
   ]
  },
  {
   "cell_type": "markdown",
   "metadata": {},
   "source": [
    "[데이터링크](https://www.aihub.or.kr/aihubdata/data/view.do?currMenu=115&topMenu=100&dataSetSn=86)"
   ]
  },
  {
   "cell_type": "code",
   "execution_count": 3,
   "metadata": {},
   "outputs": [
    {
     "data": {
      "text/plain": [
       "label\n",
       "1    7339\n",
       "Name: count, dtype: int64"
      ]
     },
     "execution_count": 3,
     "metadata": {},
     "output_type": "execute_result"
    }
   ],
   "source": [
    "fin_t=pd.read_excel('../data/감성대화말뭉치(최종데이터)_Training.xlsx')\n",
    "fin_v=pd.read_excel('../data/감성대화말뭉치(최종데이터)_Validation.xlsx')\n",
    "\n",
    "fin_t=fin_t.fillna(\"\")\n",
    "fin_v=fin_v.fillna(\"\")\n",
    "\n",
    "fin_t[\"사람문장\"]=fin_t[\"사람문장1\"].astype(str)+fin_t[\"사람문장2\"].astype(str)+fin_t[\"사람문장3\"].astype(str)\n",
    "fin_v[\"사람문장\"]=fin_v[\"사람문장1\"].astype(str)+fin_v[\"사람문장2\"].astype(str)+fin_v[\"사람문장3\"].astype(str)\n",
    "\n",
    "df_concat=pd.concat([fin_t,fin_v])\n",
    "final_df=df_concat[[\"사람문장\",\"감정_대분류\"]]\n",
    "\n",
    "final_df=final_df.rename({\"감정_대분류\":\"label\"},axis=1)\n",
    "final_df.rename({\"사람문장\":\"document\"},axis=1,inplace=True)\n",
    "\n",
    "final_df=final_df[final_df[\"label\"]!=\"불안\"]\n",
    "final_df=final_df[final_df[\"label\"]!=\"분노\"]\n",
    "final_df=final_df[final_df[\"label\"]!=\"상처\"]\n",
    "final_df=final_df[final_df[\"label\"]!=\"슬픔\"]\n",
    "final_df=final_df[final_df[\"label\"]!=\"당황\"]\n",
    "\n",
    "final_df.loc[(final_df[\"label\"] == \"기쁨\"), \"label\"] = 1\n",
    "final_df[\"label\"].value_counts()\n"
   ]
  },
  {
   "cell_type": "markdown",
   "metadata": {},
   "source": [
    "[데이터링크](https://www.aihub.or.kr/aihubdata/data/view.do?currMenu=&topMenu=&dataSetSn=263&aihubDataSe=extrldata)"
   ]
  },
  {
   "cell_type": "code",
   "execution_count": 4,
   "metadata": {},
   "outputs": [
    {
     "data": {
      "text/plain": [
       "label\n",
       "0    3253\n",
       "Name: count, dtype: int64"
      ]
     },
     "execution_count": 4,
     "metadata": {},
     "output_type": "execute_result"
    }
   ],
   "source": [
    "data_pre = pd.read_csv(\"../data/5차년도_table.csv\", encoding= 'CP949')\n",
    "data_path_1 = data_pre.loc[:,['상황', '발화문']]\n",
    "data_path_1.columns = ['label', 'document']\n",
    "\n",
    "\n",
    "data_path_1=data_path_1[data_path_1[\"label\"]!=\"surprise\"]\n",
    "data_path_1=data_path_1[data_path_1[\"label\"]!=\"angry\"]\n",
    "data_path_1=data_path_1[data_path_1[\"label\"]!=\"sadness\"]\n",
    "data_path_1=data_path_1[data_path_1[\"label\"]!=\"surprise\"]\n",
    "data_path_1=data_path_1[data_path_1[\"label\"]!=\"disgust\"]\n",
    "data_path_1=data_path_1[data_path_1[\"label\"]!=\"fear\"]\n",
    "data_path_1=data_path_1[data_path_1[\"label\"]!=\"happiness\"]\n",
    "\n",
    "data_path_1.loc[(data_path_1['label'] == \"neutral\"), 'label'] = 0\n",
    "\n",
    "\n",
    "data_path_1[\"label\"].value_counts()"
   ]
  },
  {
   "cell_type": "code",
   "execution_count": 5,
   "metadata": {},
   "outputs": [
    {
     "data": {
      "text/html": [
       "<div>\n",
       "<style scoped>\n",
       "    .dataframe tbody tr th:only-of-type {\n",
       "        vertical-align: middle;\n",
       "    }\n",
       "\n",
       "    .dataframe tbody tr th {\n",
       "        vertical-align: top;\n",
       "    }\n",
       "\n",
       "    .dataframe thead th {\n",
       "        text-align: right;\n",
       "    }\n",
       "</style>\n",
       "<table border=\"1\" class=\"dataframe\">\n",
       "  <thead>\n",
       "    <tr style=\"text-align: right;\">\n",
       "      <th></th>\n",
       "      <th>document</th>\n",
       "      <th>label</th>\n",
       "    </tr>\n",
       "  </thead>\n",
       "  <tbody>\n",
       "    <tr>\n",
       "      <th>0</th>\n",
       "      <td>퇴사한 지 얼마 안 됐지만 천천히 직장을 구해보려고.더 좋은 회사가 기다리고 있을지...</td>\n",
       "      <td>1</td>\n",
       "    </tr>\n",
       "    <tr>\n",
       "      <th>1</th>\n",
       "      <td>요즘 직장생활이 너무 편하고 좋은 것 같아!우리 회사는 복지가 정말 좋아! 내가 곧...</td>\n",
       "      <td>1</td>\n",
       "    </tr>\n",
       "    <tr>\n",
       "      <th>2</th>\n",
       "      <td>취업해야 할 나이인데 취업하고 싶지가 않아.아직 조금 더 놀고 싶은 마음이 커. 인...</td>\n",
       "      <td>1</td>\n",
       "    </tr>\n",
       "    <tr>\n",
       "      <th>3</th>\n",
       "      <td>우리 회사는 정말 사내 분위기가 좋아.즐거운 일이 매일 생길 거 같은 기분이야. 내...</td>\n",
       "      <td>1</td>\n",
       "    </tr>\n",
       "    <tr>\n",
       "      <th>4</th>\n",
       "      <td>오늘 내가 다니는 회사가 참 좋은 직장이라는 생각이 들었어.회사에서 내가 제안한 프...</td>\n",
       "      <td>1</td>\n",
       "    </tr>\n",
       "    <tr>\n",
       "      <th>...</th>\n",
       "      <td>...</td>\n",
       "      <td>...</td>\n",
       "    </tr>\n",
       "    <tr>\n",
       "      <th>32351</th>\n",
       "      <td>솔직히 예보 제대로 못하는 데 세금이라도 아끼게 그냥 폐지해라..</td>\n",
       "      <td>-1</td>\n",
       "    </tr>\n",
       "    <tr>\n",
       "      <th>32352</th>\n",
       "      <td>재미가 없으니 망하지</td>\n",
       "      <td>-1</td>\n",
       "    </tr>\n",
       "    <tr>\n",
       "      <th>32353</th>\n",
       "      <td>공장 도시락 비우생적임 아르바이트했는데 화장실가성 손도 않씯고 재료 담고 바닥 떨어...</td>\n",
       "      <td>-1</td>\n",
       "    </tr>\n",
       "    <tr>\n",
       "      <th>32354</th>\n",
       "      <td>코딱지 만한 나라에서 지들끼리 피터지게 싸우는 센징 클래스 ㅉㅉㅉ</td>\n",
       "      <td>-1</td>\n",
       "    </tr>\n",
       "    <tr>\n",
       "      <th>32355</th>\n",
       "      <td>와이프도 그렇고 댓글 다 볼텐데 이휘재 좀 하차 하라고 전해주세요</td>\n",
       "      <td>-1</td>\n",
       "    </tr>\n",
       "  </tbody>\n",
       "</table>\n",
       "<p>32356 rows × 2 columns</p>\n",
       "</div>"
      ],
      "text/plain": [
       "                                                document label\n",
       "0      퇴사한 지 얼마 안 됐지만 천천히 직장을 구해보려고.더 좋은 회사가 기다리고 있을지...     1\n",
       "1      요즘 직장생활이 너무 편하고 좋은 것 같아!우리 회사는 복지가 정말 좋아! 내가 곧...     1\n",
       "2      취업해야 할 나이인데 취업하고 싶지가 않아.아직 조금 더 놀고 싶은 마음이 커. 인...     1\n",
       "3      우리 회사는 정말 사내 분위기가 좋아.즐거운 일이 매일 생길 거 같은 기분이야. 내...     1\n",
       "4      오늘 내가 다니는 회사가 참 좋은 직장이라는 생각이 들었어.회사에서 내가 제안한 프...     1\n",
       "...                                                  ...   ...\n",
       "32351               솔직히 예보 제대로 못하는 데 세금이라도 아끼게 그냥 폐지해라..    -1\n",
       "32352                                        재미가 없으니 망하지    -1\n",
       "32353  공장 도시락 비우생적임 아르바이트했는데 화장실가성 손도 않씯고 재료 담고 바닥 떨어...    -1\n",
       "32354               코딱지 만한 나라에서 지들끼리 피터지게 싸우는 센징 클래스 ㅉㅉㅉ    -1\n",
       "32355               와이프도 그렇고 댓글 다 볼텐데 이휘재 좀 하차 하라고 전해주세요    -1\n",
       "\n",
       "[32356 rows x 2 columns]"
      ]
     },
     "execution_count": 5,
     "metadata": {},
     "output_type": "execute_result"
    }
   ],
   "source": [
    "real_final_df=pd.concat([final_df,data_path_1,keti_single])\n",
    "real_final_df.reset_index(drop=True,inplace=True)\n",
    "real_final_df"
   ]
  },
  {
   "cell_type": "code",
   "execution_count": 6,
   "metadata": {},
   "outputs": [],
   "source": [
    "real_final_df[\"label\"].value_counts()\n",
    "real_final_df.to_csv(\"dataset_fustion.csv\")"
   ]
  }
 ],
 "metadata": {
  "kernelspec": {
   "display_name": "conda_env",
   "language": "python",
   "name": "python3"
  },
  "language_info": {
   "codemirror_mode": {
    "name": "ipython",
    "version": 3
   },
   "file_extension": ".py",
   "mimetype": "text/x-python",
   "name": "python",
   "nbconvert_exporter": "python",
   "pygments_lexer": "ipython3",
   "version": "3.8.19"
  }
 },
 "nbformat": 4,
 "nbformat_minor": 2
}
