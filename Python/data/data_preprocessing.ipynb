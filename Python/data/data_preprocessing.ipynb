{
 "cells": [
  {
   "cell_type": "code",
   "execution_count": null,
   "metadata": {},
   "outputs": [],
   "source": [
    "import pandas as pd\n",
    "import numpy as np"
   ]
  },
  {
   "cell_type": "markdown",
   "metadata": {},
   "source": [
    "[데이터링크](https://aihub.or.kr/aihubdata/data/view.do?dataSetSn=270)"
   ]
  },
  {
   "cell_type": "code",
   "execution_count": null,
   "metadata": {},
   "outputs": [],
   "source": [
    "keti_single=pd.read_excel('../data/한국어_단발성_대화_데이터셋.xlsx')\n",
    "keti_single=keti_single.iloc[:,:2]\n",
    "\n",
    "keti_single.rename(columns={'Sentence':\"document\",'Emotion':'label'},inplace=True)\n",
    "\n",
    "keti_single=keti_single[keti_single[\"label\"]!=\"놀람\"]\n",
    "keti_single=keti_single[keti_single[\"label\"]!=\"분노\"]\n",
    "keti_single=keti_single[keti_single[\"label\"]!=\"슬픔\"]\n",
    "\n",
    "keti_single.loc[(keti_single['label'] == \"행복\"), 'label'] = 1  #행복 => 0\n",
    "keti_single.loc[(keti_single['label'] == \"중립\"), 'label'] = 0  #분노 => 2\n",
    "keti_single.loc[(keti_single['label'] == \"공포\"), 'label'] = -1  #슬픔 => 3\n",
    "keti_single.loc[(keti_single['label'] == \"혐오\"), 'label'] = -1  #슬픔 => 3\n",
    "\n",
    "keti_single[\"label\"].value_counts()"
   ]
  },
  {
   "cell_type": "markdown",
   "metadata": {},
   "source": [
    "[데이터링크](https://www.aihub.or.kr/aihubdata/data/view.do?currMenu=115&topMenu=100&dataSetSn=86)"
   ]
  },
  {
   "cell_type": "code",
   "execution_count": null,
   "metadata": {},
   "outputs": [],
   "source": [
    "fin_t=pd.read_excel('../data/감성대화말뭉치(최종데이터)_Training.xlsx')\n",
    "fin_v=pd.read_excel('../data/감성대화말뭉치(최종데이터)_Validation.xlsx')\n",
    "\n",
    "fin_t=fin_t.fillna(\"\")\n",
    "fin_v=fin_v.fillna(\"\")\n",
    "\n",
    "fin_t[\"사람문장\"]=fin_t[\"사람문장1\"].astype(str)+fin_t[\"사람문장2\"].astype(str)+fin_t[\"사람문장3\"].astype(str)\n",
    "fin_v[\"사람문장\"]=fin_v[\"사람문장1\"].astype(str)+fin_v[\"사람문장2\"].astype(str)+fin_v[\"사람문장3\"].astype(str)\n",
    "\n",
    "df_concat=pd.concat([fin_t,fin_v])\n",
    "final_df=df_concat[[\"사람문장\",\"감정_대분류\"]]\n",
    "\n",
    "final_df=final_df.rename({\"감정_대분류\":\"label\"},axis=1)\n",
    "final_df.rename({\"사람문장\":\"document\"},axis=1,inplace=True)\n",
    "\n",
    "final_df=final_df[final_df[\"label\"]!=\"불안\"]\n",
    "final_df=final_df[final_df[\"label\"]!=\"분노\"]\n",
    "final_df=final_df[final_df[\"label\"]!=\"상처\"]\n",
    "final_df=final_df[final_df[\"label\"]!=\"슬픔\"]\n",
    "final_df=final_df[final_df[\"label\"]!=\"당황\"]\n",
    "\n",
    "final_df.loc[(final_df[\"label\"] == \"기쁨\"), \"label\"] = 1\n",
    "final_df[\"label\"].value_counts()\n"
   ]
  },
  {
   "cell_type": "markdown",
   "metadata": {},
   "source": [
    "[데이터링크](https://www.aihub.or.kr/aihubdata/data/view.do?currMenu=&topMenu=&dataSetSn=263&aihubDataSe=extrldata)"
   ]
  },
  {
   "cell_type": "code",
   "execution_count": null,
   "metadata": {},
   "outputs": [],
   "source": [
    "data_pre = pd.read_csv(\"../data/5차년도_table.csv\", encoding= 'CP949')\n",
    "data_path_1 = data_pre.loc[:,['상황', '발화문']]\n",
    "data_path_1.columns = ['label', 'document']\n",
    "\n",
    "\n",
    "data_path_1=data_path_1[data_path_1[\"label\"]!=\"surprise\"]\n",
    "data_path_1=data_path_1[data_path_1[\"label\"]!=\"angry\"]\n",
    "data_path_1=data_path_1[data_path_1[\"label\"]!=\"sadness\"]\n",
    "data_path_1=data_path_1[data_path_1[\"label\"]!=\"surprise\"]\n",
    "data_path_1=data_path_1[data_path_1[\"label\"]!=\"disgust\"]\n",
    "data_path_1=data_path_1[data_path_1[\"label\"]!=\"fear\"]\n",
    "data_path_1=data_path_1[data_path_1[\"label\"]!=\"happiness\"]\n",
    "\n",
    "data_path_1.loc[(data_path_1['label'] == \"neutral\"), 'label'] = 0\n",
    "\n",
    "\n",
    "data_path_1[\"label\"].value_counts()"
   ]
  },
  {
   "cell_type": "code",
   "execution_count": null,
   "metadata": {},
   "outputs": [],
   "source": [
    "real_final_df=pd.concat([final_df,data_path_1,keti_single])\n",
    "real_final_df.reset_index(drop=True,inplace=True)\n",
    "real_final_df"
   ]
  },
  {
   "cell_type": "code",
   "execution_count": null,
   "metadata": {},
   "outputs": [],
   "source": [
    "real_final_df[\"label\"].value_counts()\n",
    "real_final_df.to_csv(\"dataset_fustion.csv\")"
   ]
  }
 ],
 "metadata": {
  "kernelspec": {
   "display_name": "conda_env",
   "language": "python",
   "name": "python3"
  },
  "language_info": {
   "codemirror_mode": {
    "name": "ipython",
    "version": 3
   },
   "file_extension": ".py",
   "mimetype": "text/x-python",
   "name": "python",
   "nbconvert_exporter": "python",
   "pygments_lexer": "ipython3",
   "version": "3.8.19"
  }
 },
 "nbformat": 4,
 "nbformat_minor": 2
}
